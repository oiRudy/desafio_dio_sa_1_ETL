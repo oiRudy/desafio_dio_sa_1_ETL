{
  "nbformat": 4,
  "nbformat_minor": 0,
  "metadata": {
    "colab": {
      "provenance": [],
      "collapsed_sections": [
        "kNuP0SDUZMBY"
      ],
      "include_colab_link": true
    },
    "kernelspec": {
      "name": "python3",
      "display_name": "Python 3"
    },
    "language_info": {
      "name": "python"
    }
  },
  "cells": [
    {
      "cell_type": "markdown",
      "metadata": {
        "id": "view-in-github",
        "colab_type": "text"
      },
      "source": [
        "<a href=\"https://colab.research.google.com/github/oiRudy/desafio_dio_sa_1_ETL/blob/main/SantanderDioETL2023.ipynb\" target=\"_parent\"><img src=\"https://colab.research.google.com/assets/colab-badge.svg\" alt=\"Open In Colab\"/></a>"
      ]
    },
    {
      "cell_type": "markdown",
      "source": [
        "# Desafio Dio Santander (ETL com Python)"
      ],
      "metadata": {
        "id": "BPJQsTCULaC-"
      }
    },
    {
      "cell_type": "markdown",
      "source": [
        "Esse projeto é uma adaptação do projeto do SantanderDevWeek2023, onde fui desafiado a modificar o que foi criado. As alterações foram feitas foi a troca do banco de dados, e substituindo a API rest criado tornando o codigo puramente em python.\n",
        "\n",
        "**Contexto Antigo:** No ambiente do Santander, como cientista de dados, a missão é cativar os clientes com abordagens mais individuais. Através da IA Generativa, o foco é criar mensagens de marketing personalizadas, amplificando a conexão com cada cliente. O desafio envolve a manipulação de uma planilha CSV contendo IDs de clientes. O procedimento inclui acessar a API da Santander Dev Week 2023, através do endpoint GET , para coletar os detalhes de cada cliente. Com esses dados em mãos, a API do ChatGPT (OpenAI) é aproveitada para gerar mensagens que realçam a importância dos investimentos, adaptadas a cada cliente. A etapa final consiste em atualizar as notícias de cada cliente, utilizando o endpoint PUT, completando assim o ciclo personalizado de engajamento.\n",
        "\n",
        "**Novo Contexto:** Este projeto abrange a análise de dados financeiros ao extrair informações históricas das ações do Banco Santander e, em seguida, transformar esses dados por meio de cálculos como a média móvel de 50 dias. Além disso, a API do GPT-3 é utilizada para gerar insights financeiros a partir dos dados transformados. A convergência entre análise quantitativa e linguagem natural permite uma compreensão abrangente dos padrões de preços, contribuindo para uma abordagem informada e inovadora na interpretação de dados financeiros."
      ],
      "metadata": {
        "id": "k5fA5OrXt1a3"
      }
    },
    {
      "cell_type": "markdown",
      "source": [
        "## Entrada"
      ],
      "metadata": {
        "id": "C02TTKCdQmws"
      }
    },
    {
      "cell_type": "code",
      "source": [
        "# Entrada do usuário\n",
        "symbol = \"SANB4.SA\" #Digite o símbolo da ação - Procurar na tabela de referenci do yahoo finance\n",
        "action_name = \"Satander\" #Digite o nome da ação\n",
        "start_date = \"2022-01-01\" #Digite a data de início no formato 'YYYY-MM-DD'\n",
        "end_date = \"2022-12-31\"  #Digite a data de término no formato 'YYYY-MM-DD'\n",
        "analysis_range = 50 #Digite o intervalo para a análise em dias"
      ],
      "metadata": {
        "id": "4y_dtrytQxXs"
      },
      "execution_count": 19,
      "outputs": []
    },
    {
      "cell_type": "markdown",
      "source": [
        "## **E**xtract\n",
        "\n",
        "A primeira etapa deste projeto envolve a extração de dados históricos de preços das ações do Banco Santander. Isso é realizado usando a biblioteca yfinance do Python, que facilita o acesso aos dados do Yahoo Finance. Os dados extraídos incluem informações como preços de abertura, preços máximos, preços mínimos, preços de fechamento, preços ajustados e volume de negociação ao longo de um período especificado."
      ],
      "metadata": {
        "id": "9dfI-o7gLRq9"
      }
    },
    {
      "cell_type": "code",
      "execution_count": 20,
      "metadata": {
        "id": "NYydpX_GLRCB",
        "colab": {
          "base_uri": "https://localhost:8080/"
        },
        "outputId": "9dd23f7d-4e77-49b4-e1da-f7fdcd86ba52"
      },
      "outputs": [
        {
          "output_type": "stream",
          "name": "stdout",
          "text": [
            "\r[*********************100%%**********************]  1 of 1 completed\n"
          ]
        }
      ],
      "source": [
        "import pandas as pd\n",
        "import yfinance as yf\n",
        "\n",
        "# Etapa de Extração\n",
        "data = yf.download(symbol, start=start_date, end=end_date)"
      ]
    },
    {
      "cell_type": "markdown",
      "source": [
        "## **T**ransform\n",
        "\n",
        "Nesta etapa, os dados extraídos são processados e transformados para análises adicionais. Uma análise específica realizada é o cálculo da média móvel de 50 dias dos preços de fechamento das ações do Santander. A média móvel é uma medida que ajuda a suavizar flutuações de curto prazo e identificar tendências de médio prazo. Além disso, a etapa de transformação envolve a integração da API do GPT-3 para gerar insights financeiros com base nos dados transformados."
      ],
      "metadata": {
        "id": "cWoqInB4TF1x"
      }
    },
    {
      "cell_type": "code",
      "source": [
        "# Etapa de Transformação\n",
        "# Calculando a média móvel do intervalo escolhido\n",
        "data[f'SMA_{analysis_range}'] = data['Close'].rolling(window=analysis_range).mean()"
      ],
      "metadata": {
        "id": "i3T3hdb2I0Ya"
      },
      "execution_count": 21,
      "outputs": []
    },
    {
      "cell_type": "code",
      "source": [
        "!pip install openai"
      ],
      "metadata": {
        "id": "kbV-UpQPZGqt"
      },
      "execution_count": null,
      "outputs": []
    },
    {
      "cell_type": "code",
      "source": [
        "# Documentação Oficial da API OpenAI: https://platform.openai.com/docs/api-reference/introduction\n",
        "# Informações sobre o Período Gratuito: https://help.openai.com/en/articles/4936830\n",
        "\n",
        "# Para gerar uma API Key:\n",
        "# 1. Crie uma conta na OpenAI\n",
        "# 2. Acesse a seção \"API Keys\"\n",
        "# 3. Clique em \"Create API Key\"\n",
        "# Link direto: https://platform.openai.com/account/api-keys\n",
        "\n",
        "# Substitua o texto CHAVE por sua API Key da OpenAI, ela será salva como uma variável de ambiente.\n",
        "openai_api_key = 'CHAVE'"
      ],
      "metadata": {
        "id": "sUB1doiDTX3y"
      },
      "execution_count": null,
      "outputs": []
    },
    {
      "cell_type": "code",
      "source": [
        "import openai\n",
        "\n",
        "openai.api_key = openai_api_key\n",
        "\n",
        "# Consulta ao GPT-3 para gerar um insight\n",
        "insight_query = f\"A média móvel de {analysis_range} dias dos preços da ação {action_name} está em {data[f'SMA_{analysis_range}'][-1]:.2f}. O que isso pode indicar sobre a tendência da ação?\"\n",
        "gpt_response = openai.Completion.create(\n",
        "  engine=\"davinci\",\n",
        "  prompt=insight_query,\n",
        "  max_tokens=50\n",
        ")\n",
        "gpt_insight = gpt_response.choices[0].text.strip()"
      ],
      "metadata": {
        "id": "jAFhySP1QWY5"
      },
      "execution_count": null,
      "outputs": []
    },
    {
      "cell_type": "markdown",
      "source": [
        "## **L**oad\n",
        "\n",
        "Após a transformação dos dados e a geração de insights usando o GPT-3, os resultados são carregados e organizados em um formato conveniente. Um DataFrame é criado para armazenar os dados transformados, incluindo os preços de fechamento, a média móvel de 50 dias e os insights gerados pelo GPT-3. Esses dados são então exportados para um arquivo CSV, que é um formato amplamente utilizado para compartilhamento e análise de dados."
      ],
      "metadata": {
        "id": "kNuP0SDUZMBY"
      }
    },
    {
      "cell_type": "code",
      "source": [
        "# Etapa de Carregamento\n",
        "# Aqui você pode salvar os dados e os insights como um arquivo .csv\n",
        "# Criando um DataFrame com dados e insights\n",
        "data_transformed = data[['Date', 'Close', f'SMA_{analysis_range}']]\n",
        "data_transformed['GPT_Insight'] = gpt_insight\n",
        "\n",
        "# Salvando os dados transformados em um arquivo .csv\n",
        "file_name = f'dados_transformados_{action_name}.csv'\n",
        "data_transformed.to_csv(file_name, index=False)\n",
        "print(f\"Dados transformados salvos em '{file_name}'\")"
      ],
      "metadata": {
        "id": "hfYtCutUwGJG"
      },
      "execution_count": null,
      "outputs": []
    }
  ]
}